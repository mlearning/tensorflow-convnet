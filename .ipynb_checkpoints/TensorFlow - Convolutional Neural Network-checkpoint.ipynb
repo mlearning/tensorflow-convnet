{
 "cells": [
  {
   "cell_type": "markdown",
   "metadata": {
    "slideshow": {
     "slide_type": "slide"
    }
   },
   "source": [
    "<H1 style=\"text-align: center;\"> TensorFlow Tutorial</H1>\n",
    "<H2 style=\"text-align: center;\"> Convolutional Neural Networks</H2>\n",
    "<footer style=\"text-align: center;\"> Kent Yu<br><br>10/14/2016</footer>"
   ]
  },
  {
   "cell_type": "markdown",
   "metadata": {
    "slideshow": {
     "slide_type": "slide"
    }
   },
   "source": [
    "## Overview\n",
    "* **Problem** \n",
    "    * Classify RGB 32x32 pixel images across 10 categories\n",
    "    \n",
    "* **Solution**\n",
    "    * Build a relatively small convolutional neural network (CNN) for recognizing images\n",
    "    \n",
    "* **Implication**\n",
    "    * Provides a template for constructing larger and more sophisticated models"
   ]
  },
  {
   "cell_type": "markdown",
   "metadata": {
    "slideshow": {
     "slide_type": "slide"
    }
   },
   "source": [
    "## Graph\n",
    "![tensorboard graph](./cifar_graph.png \"\")"
   ]
  },
  {
   "cell_type": "markdown",
   "metadata": {
    "slideshow": {
     "slide_type": "slide"
    }
   },
   "source": [
    "## Conv1 Layer\n",
    "* ** Input: 128 X 24 X 24 X 3 **\n",
    "* **Kernel size: 5 (Height) X 5 (Width) X 3 (Channels) X 64 (#of Kernels)**\n",
    "* ** Output: 128 X 24 X 24 X 64 **\n",
    "![tensorboard graph](./Conv1.jpg \"\")"
   ]
  },
  {
   "cell_type": "markdown",
   "metadata": {
    "slideshow": {
     "slide_type": "slide"
    }
   },
   "source": [
    "## Converlutional Network Illustration\n",
    "<img src=\"./convolutional-network-demo.gif\" width=700/>"
   ]
  },
  {
   "cell_type": "markdown",
   "metadata": {},
   "source": [
    "## Pool 1 Layer\n",
    "* ** Input: 128 X 24 X 24 X 64 **\n",
    "\n",
    "* **KSize:  1 (Batch) X 3 (Height) X 3 (Width) X 1 (Channel) **\n",
    "* **Stride: 1 (Batch) X 2 (Height) X 2 (Width) X 1 (Channel) **\n",
    "* **Padding: Same**\n",
    "\n",
    "* ** Output: 128 X 12 X 12 X 64 **\n",
    "![tensorboard graph](./Pool1.jpg \"\")\n",
    "\n",
    "    \n",
    "    \n"
   ]
  },
  {
   "cell_type": "markdown",
   "metadata": {},
   "source": [
    "    ## Conv2 Layer\n",
    "* ** Input: 128 X 12 X 12 X 64 **\n",
    "* **Kernel size: 5 (Height) X 5 (Width) X 64 (Channel) X 64 (# of Kernels)**\n",
    "* ** Output: 128 X 12 X 12 X 64 **\n",
    "![tensorboard graph](./Conv2.jpg \"\")"
   ]
  },
  {
   "cell_type": "markdown",
   "metadata": {
    "slideshow": {
     "slide_type": "slide"
    }
   },
   "source": [
    "## Pool 2 Layer\n",
    "* ** Input: 128 X 12 X 12 X 64 **\n",
    "\n",
    "* **KSize:  1 (Batch) X 3 (Height) X 3 (Width) X 1 (Channel) **\n",
    "* **Stride: 1 (Batch) X 2 (Height) X 2 (Width) X 1 (Channel) **\n",
    "* **Padding: Same**\n",
    "\n",
    "* ** Output: 128 X 6 X 6 X 64 **\n",
    "![tensorboard graph](./Pool2.jpg \"\")\n"
   ]
  },
  {
   "cell_type": "markdown",
   "metadata": {
    "collapsed": true,
    "slideshow": {
     "slide_type": "slide"
    }
   },
   "source": [
    "## Local 3 Layer\n",
    "\n",
    "* **Input: 128 * 6 * 6 * 64 **\n",
    "* ** Number of Nurons: 384**\n",
    "* ** Output: 128 * 384 **\n",
    "![tensorboard graph](./Local3.jpg \"\")"
   ]
  },
  {
   "cell_type": "markdown",
   "metadata": {
    "slideshow": {
     "slide_type": "slide"
    }
   },
   "source": [
    "## Local 4 Layer\n",
    "\n",
    "* ** Input: 128 * 384 **\n",
    "* ** Number of Nurons: 192**\n",
    "* ** Output: 128 * 192 **\n",
    "![tensorboard graph](./Local4.jpg \"\")\n",
    "    "
   ]
  },
  {
   "cell_type": "markdown",
   "metadata": {
    "slideshow": {
     "slide_type": "slide"
    }
   },
   "source": [
    "## Softmax\n",
    "* **Input:128 * 192 **\n",
    "* **Number of classes: 10**\n",
    "* **Output: 10**\n",
    "![tensorboard graph](./Softmax.jpg \"\")"
   ]
  },
  {
   "cell_type": "code",
   "execution_count": null,
   "metadata": {
    "collapsed": true
   },
   "outputs": [],
   "source": []
  }
 ],
 "metadata": {
  "celltoolbar": "Slideshow",
  "kernelspec": {
   "display_name": "Python 3",
   "language": "python",
   "name": "python3"
  },
  "language_info": {
   "codemirror_mode": {
    "name": "ipython",
    "version": 3
   },
   "file_extension": ".py",
   "mimetype": "text/x-python",
   "name": "python",
   "nbconvert_exporter": "python",
   "pygments_lexer": "ipython3",
   "version": "3.5.2"
  }
 },
 "nbformat": 4,
 "nbformat_minor": 1
}
